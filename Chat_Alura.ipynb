{
  "nbformat": 4,
  "nbformat_minor": 0,
  "metadata": {
    "colab": {
      "provenance": [],
      "authorship_tag": "ABX9TyOO6nay/xx8oodua1tysgIB",
      "include_colab_link": true
    },
    "kernelspec": {
      "name": "python3",
      "display_name": "Python 3"
    },
    "language_info": {
      "name": "python"
    }
  },
  "cells": [
    {
      "cell_type": "markdown",
      "metadata": {
        "id": "view-in-github",
        "colab_type": "text"
      },
      "source": [
        "<a href=\"https://colab.research.google.com/github/Jhoncordeiro/Chatbot_Alura/blob/main/Chat_Alura.ipynb\" target=\"_parent\"><img src=\"https://colab.research.google.com/assets/colab-badge.svg\" alt=\"Open In Colab\"/></a>"
      ]
    },
    {
      "cell_type": "markdown",
      "source": [
        "Instalando o SDK do Google"
      ],
      "metadata": {
        "id": "ANtfuTfRt8bu"
      }
    },
    {
      "cell_type": "code",
      "execution_count": 2,
      "metadata": {
        "id": "dJ4_1a13tvwB"
      },
      "outputs": [],
      "source": [
        "!pip install -q -U google-generativeai"
      ]
    },
    {
      "cell_type": "code",
      "source": [
        "# Import the Python SDK\n",
        "import google.generativeai as genai\n",
        "from google.colb import userdate\n",
        "api_key = userdate.get('SECRET_KEY')\n",
        "genai.configure(api_key='COLE SUA API KEY')"
      ],
      "metadata": {
        "id": "cyl1iaqBuafI"
      },
      "execution_count": 3,
      "outputs": []
    },
    {
      "cell_type": "code",
      "source": [
        "for m in genai.list_models():\n",
        "  if 'generateContent' in m.supported_generation_methods:\n",
        "    display(m.name)"
      ],
      "metadata": {
        "colab": {
          "base_uri": "https://localhost:8080/",
          "height": 146
        },
        "id": "YB4mYThUvZa4",
        "outputId": "08be33fa-fc6e-4f14-c367-f2378dd1b830"
      },
      "execution_count": 4,
      "outputs": [
        {
          "output_type": "display_data",
          "data": {
            "text/plain": [
              "'models/gemini-1.0-pro'"
            ],
            "application/vnd.google.colaboratory.intrinsic+json": {
              "type": "string"
            }
          },
          "metadata": {}
        },
        {
          "output_type": "display_data",
          "data": {
            "text/plain": [
              "'models/gemini-1.0-pro-001'"
            ],
            "application/vnd.google.colaboratory.intrinsic+json": {
              "type": "string"
            }
          },
          "metadata": {}
        },
        {
          "output_type": "display_data",
          "data": {
            "text/plain": [
              "'models/gemini-1.0-pro-latest'"
            ],
            "application/vnd.google.colaboratory.intrinsic+json": {
              "type": "string"
            }
          },
          "metadata": {}
        },
        {
          "output_type": "display_data",
          "data": {
            "text/plain": [
              "'models/gemini-1.0-pro-vision-latest'"
            ],
            "application/vnd.google.colaboratory.intrinsic+json": {
              "type": "string"
            }
          },
          "metadata": {}
        },
        {
          "output_type": "display_data",
          "data": {
            "text/plain": [
              "'models/gemini-1.5-pro-latest'"
            ],
            "application/vnd.google.colaboratory.intrinsic+json": {
              "type": "string"
            }
          },
          "metadata": {}
        },
        {
          "output_type": "display_data",
          "data": {
            "text/plain": [
              "'models/gemini-pro'"
            ],
            "application/vnd.google.colaboratory.intrinsic+json": {
              "type": "string"
            }
          },
          "metadata": {}
        },
        {
          "output_type": "display_data",
          "data": {
            "text/plain": [
              "'models/gemini-pro-vision'"
            ],
            "application/vnd.google.colaboratory.intrinsic+json": {
              "type": "string"
            }
          },
          "metadata": {}
        }
      ]
    },
    {
      "cell_type": "code",
      "source": [
        "generation_config = {\n",
        "    'candidate_count': 1,\n",
        "    'temperature': 0.5,\n",
        "}"
      ],
      "metadata": {
        "id": "JXe71HCByOh3"
      },
      "execution_count": 5,
      "outputs": []
    },
    {
      "cell_type": "code",
      "source": [
        "safety_settings = {\n",
        "    'Harassment' : 'Block_none',\n",
        "    'Hate' : 'Block_none',\n",
        "    'Sexual' : 'Block_none',\n",
        "    'Dangerous' : 'Block_none',\n",
        "}"
      ],
      "metadata": {
        "id": "-jVZDSzjyuSy"
      },
      "execution_count": 6,
      "outputs": []
    },
    {
      "cell_type": "markdown",
      "source": [
        "Inicializando o modelo"
      ],
      "metadata": {
        "id": "6PbJFzSl0wEE"
      }
    },
    {
      "cell_type": "code",
      "source": [
        "model = genai.GenerativeModel(model_name='gemini-1.0-pro',\n",
        "                              generation_config=generation_config,\n",
        "                              safety_settings=safety_settings)"
      ],
      "metadata": {
        "id": "2j28qcJT0y3s"
      },
      "execution_count": 7,
      "outputs": []
    },
    {
      "cell_type": "code",
      "source": [
        "response = model.generate_content(\"Vamos aprender conteúdo sobre IA. Me dê sugestões.\")\n",
        "print(response.text)"
      ],
      "metadata": {
        "colab": {
          "base_uri": "https://localhost:8080/",
          "height": 833
        },
        "id": "GUKL3UOF2ODI",
        "outputId": "e4796cd4-a373-4d40-b9f1-338a51f3e908"
      },
      "execution_count": 8,
      "outputs": [
        {
          "output_type": "stream",
          "name": "stdout",
          "text": [
            "**Conceitos Fundamentais**\n",
            "\n",
            "* O que é Inteligência Artificial (IA)?\n",
            "* Tipos de IA (por exemplo, aprendizado de máquina, aprendizado profundo, processamento de linguagem natural)\n",
            "* Algoritmos e modelos de IA\n",
            "* Dados e treinamento de IA\n",
            "\n",
            "**Aprendizado de Máquina**\n",
            "\n",
            "* Aprendizado supervisionado, não supervisionado e por reforço\n",
            "* Regressão, classificação e agrupamento\n",
            "* Árvores de decisão, redes neurais e máquinas de vetores de suporte\n",
            "\n",
            "**Aprendizado Profundo**\n",
            "\n",
            "* Redes neurais convolucionais (CNNs)\n",
            "* Redes neurais recorrentes (RNNs)\n",
            "* Transformadores\n",
            "* Aplicações de aprendizado profundo (por exemplo, visão computacional, processamento de linguagem natural)\n",
            "\n",
            "**Processamento de Linguagem Natural (PNL)**\n",
            "\n",
            "* Análise sintática, semântica e pragmática\n",
            "* Modelos de linguagem, tradução automática e reconhecimento de fala\n",
            "* Aplicações de PNL (por exemplo, chatbots, resumos de texto)\n",
            "\n",
            "**Ética e Implicações Sociais da IA**\n",
            "\n",
            "* Preconceito e discriminação em sistemas de IA\n",
            "* Privacidade e segurança de dados\n",
            "* Impacto no emprego e na sociedade\n",
            "* Diretrizes éticas para o desenvolvimento e uso de IA\n",
            "\n",
            "**Aplicações da IA**\n",
            "\n",
            "* Saúde (por exemplo, diagnóstico médico, descoberta de medicamentos)\n",
            "* Finanças (por exemplo, detecção de fraudes, gerenciamento de investimentos)\n",
            "* Transporte (por exemplo, veículos autônomos, otimização de rotas)\n",
            "* Varejo (por exemplo, recomendações personalizadas, gerenciamento de estoque)\n",
            "* Manufatura (por exemplo, automação de processos, otimização de produção)\n",
            "\n",
            "**Recursos para Aprender IA**\n",
            "\n",
            "* Cursos online (por exemplo, Coursera, edX, Udacity)\n",
            "* Tutoriais e artigos (por exemplo, MIT OpenCourseWare, Google AI Blog)\n",
            "* Livros (por exemplo, \"Inteligência Artificial: Uma Abordagem Moderna\", \"Aprendizado Profundo\")\n",
            "* Comunidades e fóruns (por exemplo, Stack Overflow, Reddit)\n"
          ]
        }
      ]
    },
    {
      "cell_type": "code",
      "source": [
        "chat = model.start_chat(history=[])"
      ],
      "metadata": {
        "id": "nHyjBNsF2_Sg"
      },
      "execution_count": 9,
      "outputs": []
    },
    {
      "cell_type": "code",
      "source": [
        "prompt = input('Esperando prompt: ')\n",
        "\n",
        "while prompt != 'fim':\n",
        "  response = chat.send_message(prompt)\n",
        "  print('Resposta: ', response.text, '\\n')\n",
        "  prompt = input('Esperando prompt: ')\n",
        "\n",
        "  if prompt in 'fim':\n",
        "    print('\\n''Chat encerado')\n"
      ],
      "metadata": {
        "colab": {
          "base_uri": "https://localhost:8080/",
          "height": 349
        },
        "id": "u7rWOCet3eJR",
        "outputId": "e50cad61-3ec1-404b-df19-fcdac437a06d"
      },
      "execution_count": 14,
      "outputs": [
        {
          "output_type": "stream",
          "name": "stdout",
          "text": [
            "Esperando prompt: Qual o maior time de futebol do Brasil ?\n",
            "Resposta:  Flamengo \n",
            "\n",
            "Esperando prompt: Porque?\n",
            "Resposta:  O Flamengo é considerado o maior time de futebol do Brasil por vários motivos:\n",
            "\n",
            "* **Maior torcida:** O Flamengo tem a maior torcida do Brasil, com cerca de 40 milhões de torcedores, de acordo com pesquisas.\n",
            "* **Mais títulos nacionais:** O Flamengo conquistou 8 títulos do Campeonato Brasileiro (o maior número entre os clubes brasileiros), 3 Copas do Brasil e 2 Supercopas do Brasil.\n",
            "* **Títulos internacionais:** O Flamengo é o único clube brasileiro a conquistar a Copa Libertadores da América três vezes (1981, 2019 e 2022) e a Copa Sul-Americana uma vez (2020). Também venceu a Recopa Sul-Americana duas vezes (2020 e 2022).\n",
            "* **Elenco forte:** O Flamengo tem um elenco forte e competitivo, com jogadores de destaque como Gabigol, Pedro, Arrascaeta e Everton Ribeiro.\n",
            "* **Tradição e história:** O Flamengo é um clube com uma longa e rica história, fundado em 1895. Tem uma forte tradição de formar jogadores talentosos e conquistar títulos.\n",
            "* **Popularidade e influência:** O Flamengo é um clube muito popular e influente no Brasil e no mundo. Tem uma grande presença nas redes sociais e seus jogos são amplamente assistidos.\n",
            "\n",
            "Além disso, o Flamengo também tem uma forte presença na mídia e nas redes sociais, o que contribui para sua popularidade e influência. \n",
            "\n",
            "Esperando prompt: fim\n",
            "\n",
            "Chat encerado\n"
          ]
        }
      ]
    }
  ]
}
